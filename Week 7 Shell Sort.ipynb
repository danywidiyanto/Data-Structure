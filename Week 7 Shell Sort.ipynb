{
 "cells": [
  {
   "cell_type": "code",
   "execution_count": 1,
   "metadata": {},
   "outputs": [
    {
     "name": "stdout",
     "output_type": "stream",
     "text": [
      "[35, 33, 42, 10, 14, 19, 27, 44]\n",
      "4\n",
      "[14, 33, 42, 10, 35, 19, 27, 44]\n",
      "4\n",
      "[14, 19, 42, 10, 35, 33, 27, 44]\n",
      "4\n",
      "[14, 19, 27, 10, 35, 33, 42, 44]\n",
      "4\n",
      "[14, 19, 27, 10, 35, 33, 42, 44]\n",
      "2\n",
      "[14, 19, 27, 10, 35, 33, 42, 44]\n",
      "[14, 19, 27, 10, 35, 33, 42, 44]\n",
      "[14, 19, 27, 10, 35, 33, 42, 44]\n",
      "2\n",
      "[14, 10, 27, 19, 35, 33, 42, 44]\n",
      "[14, 10, 27, 19, 35, 33, 42, 44]\n",
      "[14, 10, 27, 19, 35, 33, 42, 44]\n",
      "1\n",
      "[10, 14, 27, 19, 35, 33, 42, 44]\n",
      "[10, 14, 27, 19, 35, 33, 42, 44]\n",
      "[10, 14, 19, 27, 35, 33, 42, 44]\n",
      "[10, 14, 19, 27, 35, 33, 42, 44]\n",
      "[10, 14, 19, 27, 33, 35, 42, 44]\n",
      "[10, 14, 19, 27, 33, 35, 42, 44]\n",
      "[10, 14, 19, 27, 33, 35, 42, 44]\n"
     ]
    }
   ],
   "source": [
    "def Shellsort(A):\n",
    "    gap=len(A)//2\n",
    "    while gap>0:\n",
    "        \n",
    "        for startposition in range (gap):\n",
    "            print(gap)\n",
    "            gapInsertionsort(A,startposition,gap)\n",
    "        gap=gap//2\n",
    "        \n",
    "def gapInsertionsort (A,start,gap):\n",
    "    for i in range(start+gap,len(A),gap):\n",
    "        \n",
    "            currentvalue=A[i]\n",
    "            position=i\n",
    "            \n",
    "            while position>= gap and A[position-gap]>currentvalue:\n",
    "                A[position]=A[position-gap]\n",
    "                position=position-gap\n",
    "            A[position]=currentvalue\n",
    "            print(A)\n",
    "            \n",
    "A=[35,33,42,10,14,19,27,44]\n",
    "print(A)\n",
    "Shellsort(A)"
   ]
  },
  {
   "cell_type": "code",
   "execution_count": null,
   "metadata": {},
   "outputs": [],
   "source": []
  }
 ],
 "metadata": {
  "kernelspec": {
   "display_name": "Python 3",
   "language": "python",
   "name": "python3"
  },
  "language_info": {
   "codemirror_mode": {
    "name": "ipython",
    "version": 3
   },
   "file_extension": ".py",
   "mimetype": "text/x-python",
   "name": "python",
   "nbconvert_exporter": "python",
   "pygments_lexer": "ipython3",
   "version": "3.7.1"
  }
 },
 "nbformat": 4,
 "nbformat_minor": 2
}
