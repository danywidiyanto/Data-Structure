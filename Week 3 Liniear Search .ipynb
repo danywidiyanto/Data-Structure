{
 "cells": [
  {
   "cell_type": "code",
   "execution_count": 3,
   "metadata": {},
   "outputs": [
    {
     "name": "stdout",
     "output_type": "stream",
     "text": [
      "Did not find the search number\n",
      "Did not find the search number\n",
      "Did not find the search number\n",
      "Did not find the search number\n",
      "Found the search number:\n",
      "1\n"
     ]
    }
   ],
   "source": [
    "search=2\n",
    "l=[1,2,3,4,5,6]\n",
    "position=len(l)-1\n",
    "last=0\n",
    "found = False\n",
    "while position >= last and not found:\n",
    "    if l[position]==search:\n",
    "        found=True\n",
    "    else:\n",
    "        position= position-1\n",
    "    if found:\n",
    "        print(\"Found the search number:\")\n",
    "        print(position)\n",
    "    else:\n",
    "        print(\"Did not find the search number\")\n",
    "        "
   ]
  },
  {
   "cell_type": "code",
   "execution_count": 9,
   "metadata": {},
   "outputs": [
    {
     "name": "stdout",
     "output_type": "stream",
     "text": [
      "Did not find the search number\n",
      "Found the search number:\n",
      "1\n"
     ]
    }
   ],
   "source": [
    "search=2\n",
    "l=[1,2,3,4,5,6]\n",
    "position=0\n",
    "last=len(l)-1\n",
    "found = False\n",
    "while position <= last and not found:\n",
    "    if l[position]==search:\n",
    "        found=True\n",
    "    else:\n",
    "        position= position+1\n",
    "    if found:\n",
    "        print(\"Found the search number:\")\n",
    "        print(position)\n",
    "    else:\n",
    "        print(\"Did not find the search number\")"
   ]
  },
  {
   "cell_type": "code",
   "execution_count": 22,
   "metadata": {},
   "outputs": [
    {
     "name": "stdout",
     "output_type": "stream",
     "text": [
      "Did not find the search number\n",
      "Found the search number:\n",
      "1\n",
      "Did not find the search number\n",
      "Did not find the search number\n",
      "Did not find the search number\n"
     ]
    }
   ],
   "source": [
    "search=2\n",
    "l=[1,2,3,4,5,6]\n",
    "position=0\n",
    "last=len(l)-1\n",
    "found = False\n",
    "for position in range (len(l)-1):\n",
    "    if l[position]==search:\n",
    "        found=True\n",
    "        print(\"Found the search number:\")\n",
    "        print(position)\n",
    "    else:\n",
    "        print(\"Did not find the search number\")"
   ]
  },
  {
   "cell_type": "code",
   "execution_count": 21,
   "metadata": {},
   "outputs": [
    {
     "name": "stdout",
     "output_type": "stream",
     "text": [
      "Did not find the search number\n",
      "Found the search number:\n",
      "1\n"
     ]
    }
   ],
   "source": [
    "search=2\n",
    "l=[1,2,3,4,5,6]\n",
    "def function(search,l):\n",
    "    position=0\n",
    "    last=len(l)-1\n",
    "    found = False\n",
    "    while position <= last and not found:\n",
    "        if l[position]==search:\n",
    "            found=True\n",
    "        else:\n",
    "            position= position+1\n",
    "        if found:\n",
    "            print(\"Found the search number:\")\n",
    "            print(position)\n",
    "        else:\n",
    "            print(\"Did not find the search number\")\n",
    "function(search,l)"
   ]
  },
  {
   "cell_type": "code",
   "execution_count": null,
   "metadata": {},
   "outputs": [],
   "source": []
  }
 ],
 "metadata": {
  "kernelspec": {
   "display_name": "Python 3",
   "language": "python",
   "name": "python3"
  },
  "language_info": {
   "codemirror_mode": {
    "name": "ipython",
    "version": 3
   },
   "file_extension": ".py",
   "mimetype": "text/x-python",
   "name": "python",
   "nbconvert_exporter": "python",
   "pygments_lexer": "ipython3",
   "version": "3.7.1"
  }
 },
 "nbformat": 4,
 "nbformat_minor": 2
}
