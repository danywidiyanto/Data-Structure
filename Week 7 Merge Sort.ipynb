{
 "cells": [
  {
   "cell_type": "code",
   "execution_count": 3,
   "metadata": {},
   "outputs": [
    {
     "name": "stdout",
     "output_type": "stream",
     "text": [
      "[17, 20, 26, 31, 44, 54, 55, 77, 93, 99, 100]\n"
     ]
    }
   ],
   "source": [
    "def Mergedsort(A):\n",
    "    n=len(A)\n",
    "    if (n<2):\n",
    "        return\n",
    "    mid=len(A)//2\n",
    "    left=A[:mid]\n",
    "    right=A[mid:]\n",
    "    Mergedsort(left) \n",
    "    Mergedsort(right)\n",
    "    i=0\n",
    "    j=0\n",
    "    k=0\n",
    "    \n",
    "    while i<len(left) and j<len(right):\n",
    "        if left[i]<right[j]:\n",
    "            A[k]=left[i]\n",
    "            i=i+1\n",
    "        else:\n",
    "            A[k]=right[j]\n",
    "            j=j+1\n",
    "        k=k+1\n",
    "        \n",
    "    while i<len(left):\n",
    "        A[k]=left[i]\n",
    "        i=i+1\n",
    "        k=k+1\n",
    "            \n",
    "    while j<len(right):\n",
    "        A[k]=right[j]\n",
    "        j=j+1\n",
    "        k=k+1\n",
    "A=[54,26,93,17,99,77,31,44,55,20,100]\n",
    "Mergedsort(A)\n",
    "print(A)\n",
    "    "
   ]
  },
  {
   "cell_type": "code",
   "execution_count": null,
   "metadata": {},
   "outputs": [],
   "source": []
  }
 ],
 "metadata": {
  "kernelspec": {
   "display_name": "Python 3",
   "language": "python",
   "name": "python3"
  },
  "language_info": {
   "codemirror_mode": {
    "name": "ipython",
    "version": 3
   },
   "file_extension": ".py",
   "mimetype": "text/x-python",
   "name": "python",
   "nbconvert_exporter": "python",
   "pygments_lexer": "ipython3",
   "version": "3.7.1"
  }
 },
 "nbformat": 4,
 "nbformat_minor": 2
}
