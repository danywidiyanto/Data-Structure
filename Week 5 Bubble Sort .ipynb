{
 "cells": [
  {
   "cell_type": "code",
   "execution_count": 45,
   "metadata": {},
   "outputs": [
    {
     "name": "stdout",
     "output_type": "stream",
     "text": [
      "[54, 26, 93, 77, 20]\n",
      "[54, 26, 93, 77, 20]\n",
      "[26, 54, 93, 77, 20]\n",
      "[26, 54, 93, 77, 20]\n",
      "[26, 54, 77, 93, 20]\n",
      "[26, 54, 77, 20, 93]\n",
      "[26, 54, 77, 20, 93]\n",
      "[26, 54, 77, 20, 93]\n",
      "[26, 54, 77, 20, 93]\n",
      "[26, 54, 20, 77, 93]\n",
      "[26, 54, 20, 77, 93]\n",
      "[26, 54, 20, 77, 93]\n",
      "[26, 54, 20, 77, 93]\n",
      "[26, 20, 54, 77, 93]\n",
      "[26, 20, 54, 77, 93]\n",
      "[26, 20, 54, 77, 93]\n",
      "[26, 20, 54, 77, 93]\n",
      "[20, 26, 54, 77, 93]\n",
      "[20, 26, 54, 77, 93]\n",
      "[20, 26, 54, 77, 93]\n",
      "[20, 26, 54, 77, 93]\n",
      "[20, 26, 54, 77, 93]\n",
      "[20, 26, 54, 77, 93]\n",
      "[20, 26, 54, 77, 93]\n",
      "[20, 26, 54, 77, 93]\n"
     ]
    }
   ],
   "source": [
    "l=[54,26,93,77,20]\n",
    "for j in range(len(l)):\n",
    "    print(l)\n",
    "    for i in range(len(l)-1):\n",
    "        print(l)\n",
    "        if l[i]>l[i+1]:\n",
    "            swap=l[i]\n",
    "            l[i]=l[i+1]\n",
    "            l[i+1]=swap\n",
    "            \n"
   ]
  },
  {
   "cell_type": "code",
   "execution_count": 47,
   "metadata": {},
   "outputs": [
    {
     "name": "stdout",
     "output_type": "stream",
     "text": [
      "[54, 26, 93, 77, 20]\n",
      "[54, 26, 93, 77, 20]\n",
      "[54, 26, 93, 77, 20]\n",
      "[54, 93, 26, 77, 20]\n",
      "[54, 93, 77, 26, 20]\n",
      "[54, 93, 77, 26, 20]\n",
      "[54, 93, 77, 26, 20]\n",
      "[93, 54, 77, 26, 20]\n",
      "[93, 77, 54, 26, 20]\n",
      "[93, 77, 54, 26, 20]\n",
      "[93, 77, 54, 26, 20]\n",
      "[93, 77, 54, 26, 20]\n",
      "[93, 77, 54, 26, 20]\n",
      "[93, 77, 54, 26, 20]\n",
      "[93, 77, 54, 26, 20]\n",
      "[93, 77, 54, 26, 20]\n",
      "[93, 77, 54, 26, 20]\n",
      "[93, 77, 54, 26, 20]\n",
      "[93, 77, 54, 26, 20]\n",
      "[93, 77, 54, 26, 20]\n",
      "[93, 77, 54, 26, 20]\n",
      "[93, 77, 54, 26, 20]\n",
      "[93, 77, 54, 26, 20]\n",
      "[93, 77, 54, 26, 20]\n",
      "[93, 77, 54, 26, 20]\n"
     ]
    }
   ],
   "source": [
    "l=[54,26,93,77,20]\n",
    "for j in range(len(l)):\n",
    "    print(l)\n",
    "    for i in range(len(l)-1):\n",
    "        print(l)\n",
    "        if l[i+1]>l[i]:\n",
    "            swap=l[i+1]\n",
    "            l[i+1]=l[i]\n",
    "            l[i]=swap\n",
    "            "
   ]
  },
  {
   "cell_type": "code",
   "execution_count": null,
   "metadata": {},
   "outputs": [],
   "source": []
  }
 ],
 "metadata": {
  "kernelspec": {
   "display_name": "Python 3",
   "language": "python",
   "name": "python3"
  },
  "language_info": {
   "codemirror_mode": {
    "name": "ipython",
    "version": 3
   },
   "file_extension": ".py",
   "mimetype": "text/x-python",
   "name": "python",
   "nbconvert_exporter": "python",
   "pygments_lexer": "ipython3",
   "version": "3.7.1"
  }
 },
 "nbformat": 4,
 "nbformat_minor": 2
}
