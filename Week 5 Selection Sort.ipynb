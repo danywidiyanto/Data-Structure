{
 "cells": [
  {
   "cell_type": "code",
   "execution_count": 68,
   "metadata": {},
   "outputs": [
    {
     "name": "stdout",
     "output_type": "stream",
     "text": [
      "[54, 26, 93, 77, 20]\n",
      "[54, 26, 93, 77, 20]\n",
      "[54, 26, 93, 77, 20]\n",
      "[54, 26, 93, 77, 20]\n",
      "[54, 26, 93, 77, 20]\n",
      "[93, 26, 54, 77, 20]\n",
      "[93, 26, 54, 77, 20]\n",
      "[93, 26, 54, 77, 20]\n",
      "[93, 26, 54, 77, 20]\n",
      "[93, 77, 54, 26, 20]\n",
      "[93, 77, 54, 26, 20]\n",
      "[93, 77, 54, 26, 20]\n",
      "[93, 77, 54, 26, 20]\n",
      "[93, 77, 54, 26, 20]\n",
      "[93, 77, 54, 26, 20]\n"
     ]
    }
   ],
   "source": [
    "l=[54,26,93,77,20]\n",
    "for i in range(len(l)):\n",
    "    min_ind=i\n",
    "    print(l)\n",
    "    for j in range((i+1),len(l)):\n",
    "            if l[j]>l[min_ind]:\n",
    "                min_ind=j\n",
    "            print(l)\n",
    "    swap=l[i]\n",
    "    l[i]=l[min_ind]\n",
    "    l[min_ind]=swap \n",
    "   \n",
    "        \n"
   ]
  },
  {
   "cell_type": "code",
   "execution_count": null,
   "metadata": {},
   "outputs": [],
   "source": []
  }
 ],
 "metadata": {
  "kernelspec": {
   "display_name": "Python 3",
   "language": "python",
   "name": "python3"
  },
  "language_info": {
   "codemirror_mode": {
    "name": "ipython",
    "version": 3
   },
   "file_extension": ".py",
   "mimetype": "text/x-python",
   "name": "python",
   "nbconvert_exporter": "python",
   "pygments_lexer": "ipython3",
   "version": "3.7.1"
  }
 },
 "nbformat": 4,
 "nbformat_minor": 2
}
